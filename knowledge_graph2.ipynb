{
 "cells": [
  {
   "cell_type": "code",
   "execution_count": 1,
   "metadata": {},
   "outputs": [],
   "source": [
    "import pandas as pd\n",
    "import networkx as nx"
   ]
  },
  {
   "attachments": {},
   "cell_type": "markdown",
   "metadata": {},
   "source": [
    "## Load pre-processed data"
   ]
  },
  {
   "cell_type": "code",
   "execution_count": 2,
   "metadata": {},
   "outputs": [
    {
     "name": "stderr",
     "output_type": "stream",
     "text": [
      "C:\\Users\\guusj\\AppData\\Local\\Temp\\ipykernel_11928\\2848731969.py:1: DtypeWarning: Columns (22,23,25,47) have mixed types. Specify dtype option on import or set low_memory=False.\n",
      "  data = pd.read_csv('final.csv')\n"
     ]
    }
   ],
   "source": [
    "data = pd.read_csv('final.csv')"
   ]
  },
  {
   "cell_type": "code",
   "execution_count": 3,
   "metadata": {},
   "outputs": [],
   "source": [
    "graph_data = {\n",
    "    'source' : [],\n",
    "    'target' : [],\n",
    "    'edge' : [],\n",
    "}"
   ]
  },
  {
   "cell_type": "code",
   "execution_count": 4,
   "metadata": {},
   "outputs": [],
   "source": [
    "relations = [\n",
    "    # source, target, edge\n",
    "    ('driverId', 'time_pit', 'range'),\n",
    "    ('driverId', 'code', 'type'),\n",
    "    ('driverId', 'rank', 'range'),\n",
    "    ('driverId', 'lap', 'range'),\n",
    "    ('time_pit', 'duration', 'SubClassOf'),\n",
    "    ('raceId', 'rank', 'range'),\n",
    "    ('Race', 'raceId', 'type'),\n",
    "    ('Race', 'driverId', 'range'),\n",
    "    ('Race', 'Year', 'range'),\n",
    "    ('lap', 'time_lap', 'range')\n",
    "]"
   ]
  },
  {
   "cell_type": "code",
   "execution_count": 5,
   "metadata": {},
   "outputs": [],
   "source": [
    "for rel in relations:\n",
    "    for i in data[rel[0]].unique():\n",
    "        for j in data[(data[rel[0]] == i)][rel[1]].unique():\n",
    "            graph_data['source'].append(i)\n",
    "            graph_data['target'].append(j)\n",
    "            graph_data['edge'].append(rel[2])"
   ]
  },
  {
   "cell_type": "code",
   "execution_count": 6,
   "metadata": {},
   "outputs": [],
   "source": [
    "graph_data = pd.DataFrame(graph_data)"
   ]
  },
  {
   "cell_type": "code",
   "execution_count": 7,
   "metadata": {},
   "outputs": [
    {
     "data": {
      "text/html": [
       "<div>\n",
       "<style scoped>\n",
       "    .dataframe tbody tr th:only-of-type {\n",
       "        vertical-align: middle;\n",
       "    }\n",
       "\n",
       "    .dataframe tbody tr th {\n",
       "        vertical-align: top;\n",
       "    }\n",
       "\n",
       "    .dataframe thead th {\n",
       "        text-align: right;\n",
       "    }\n",
       "</style>\n",
       "<table border=\"1\" class=\"dataframe\">\n",
       "  <thead>\n",
       "    <tr style=\"text-align: right;\">\n",
       "      <th></th>\n",
       "      <th>source</th>\n",
       "      <th>target</th>\n",
       "      <th>edge</th>\n",
       "    </tr>\n",
       "  </thead>\n",
       "  <tbody>\n",
       "    <tr>\n",
       "      <th>0</th>\n",
       "      <td>1</td>\n",
       "      <td>no pitstop</td>\n",
       "      <td>range</td>\n",
       "    </tr>\n",
       "    <tr>\n",
       "      <th>1</th>\n",
       "      <td>1</td>\n",
       "      <td>17:28:24</td>\n",
       "      <td>range</td>\n",
       "    </tr>\n",
       "    <tr>\n",
       "      <th>2</th>\n",
       "      <td>1</td>\n",
       "      <td>17:59:29</td>\n",
       "      <td>range</td>\n",
       "    </tr>\n",
       "    <tr>\n",
       "      <th>3</th>\n",
       "      <td>1</td>\n",
       "      <td>16:24:40</td>\n",
       "      <td>range</td>\n",
       "    </tr>\n",
       "    <tr>\n",
       "      <th>4</th>\n",
       "      <td>1</td>\n",
       "      <td>16:45:48</td>\n",
       "      <td>range</td>\n",
       "    </tr>\n",
       "    <tr>\n",
       "      <th>...</th>\n",
       "      <td>...</td>\n",
       "      <td>...</td>\n",
       "      <td>...</td>\n",
       "    </tr>\n",
       "    <tr>\n",
       "      <th>533979</th>\n",
       "      <td>87</td>\n",
       "      <td>0:58.593</td>\n",
       "      <td>range</td>\n",
       "    </tr>\n",
       "    <tr>\n",
       "      <th>533980</th>\n",
       "      <td>87</td>\n",
       "      <td>0:56.926</td>\n",
       "      <td>range</td>\n",
       "    </tr>\n",
       "    <tr>\n",
       "      <th>533981</th>\n",
       "      <td>87</td>\n",
       "      <td>0:57.383</td>\n",
       "      <td>range</td>\n",
       "    </tr>\n",
       "    <tr>\n",
       "      <th>533982</th>\n",
       "      <td>87</td>\n",
       "      <td>0:58.127</td>\n",
       "      <td>range</td>\n",
       "    </tr>\n",
       "    <tr>\n",
       "      <th>533983</th>\n",
       "      <td>87</td>\n",
       "      <td>0:57.941</td>\n",
       "      <td>range</td>\n",
       "    </tr>\n",
       "  </tbody>\n",
       "</table>\n",
       "<p>533984 rows × 3 columns</p>\n",
       "</div>"
      ],
      "text/plain": [
       "       source      target   edge\n",
       "0           1  no pitstop  range\n",
       "1           1    17:28:24  range\n",
       "2           1    17:59:29  range\n",
       "3           1    16:24:40  range\n",
       "4           1    16:45:48  range\n",
       "...       ...         ...    ...\n",
       "533979     87    0:58.593  range\n",
       "533980     87    0:56.926  range\n",
       "533981     87    0:57.383  range\n",
       "533982     87    0:58.127  range\n",
       "533983     87    0:57.941  range\n",
       "\n",
       "[533984 rows x 3 columns]"
      ]
     },
     "execution_count": 7,
     "metadata": {},
     "output_type": "execute_result"
    }
   ],
   "source": [
    "graph_data"
   ]
  },
  {
   "cell_type": "code",
   "execution_count": 8,
   "metadata": {},
   "outputs": [],
   "source": [
    "# # create a directed-graph from a dataframe\n",
    "G=nx.from_pandas_edgelist(graph_data, \"source\", \"target\", \n",
    "                          edge_attr=\"edge\", create_using=nx.MultiDiGraph())"
   ]
  }
 ],
 "metadata": {
  "kernelspec": {
   "display_name": "knowledgeEngineering",
   "language": "python",
   "name": "python3"
  },
  "language_info": {
   "codemirror_mode": {
    "name": "ipython",
    "version": 3
   },
   "file_extension": ".py",
   "mimetype": "text/x-python",
   "name": "python",
   "nbconvert_exporter": "python",
   "pygments_lexer": "ipython3",
   "version": "3.9.13"
  },
  "orig_nbformat": 4
 },
 "nbformat": 4,
 "nbformat_minor": 2
}
